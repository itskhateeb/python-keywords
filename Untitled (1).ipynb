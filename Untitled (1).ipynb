{
 "cells": [
  {
   "cell_type": "code",
   "execution_count": 1,
   "id": "ad3cfe9c-78f2-4440-91f3-01c68183c25d",
   "metadata": {},
   "outputs": [],
   "source": [
    "# 1. Explain the significance of Python keywords and provide examples of five keywords"
   ]
  },
  {
   "cell_type": "code",
   "execution_count": 2,
   "id": "948e27df-625e-4a11-9325-8103127e2ab8",
   "metadata": {},
   "outputs": [],
   "source": [
    "# Python Keywords are some predefined and reserved words in Python that have special meanings.\n",
    "# Keywords are used to define the syntax of the coding. \n",
    "# The keyword cannot be used as an identifier, function, or variable name. \n",
    "# keywords are: if, elif, else, for, while, break, continue, def, return, True, False etc"
   ]
  },
  {
   "cell_type": "code",
   "execution_count": 4,
   "id": "bb410cbd-ab31-4655-b407-ce847b1ffc6b",
   "metadata": {},
   "outputs": [
    {
     "name": "stdin",
     "output_type": "stream",
     "text": [
      "Enter your age:  18\n"
     ]
    },
    {
     "name": "stdout",
     "output_type": "stream",
     "text": [
      "You are an adult\n"
     ]
    }
   ],
   "source": [
    "age = int(input(\"Enter your age: \"))\n",
    "if age >= 18:\n",
    "    print(\"You are an adult\")\n",
    "else:\n",
    "    print(\"You are not an adult\")"
   ]
  },
  {
   "cell_type": "code",
   "execution_count": 6,
   "id": "45f5d6e3-33f9-4aa2-905b-a37bbda54ac2",
   "metadata": {},
   "outputs": [
    {
     "name": "stdout",
     "output_type": "stream",
     "text": [
      "0\n",
      "1\n",
      "2\n",
      "3\n",
      "4\n"
     ]
    }
   ],
   "source": [
    "for i in range(5):\n",
    "  print(i)"
   ]
  },
  {
   "cell_type": "code",
   "execution_count": 7,
   "id": "ae089e22-1394-49c3-9cb6-b07e1cfc5432",
   "metadata": {},
   "outputs": [
    {
     "name": "stdout",
     "output_type": "stream",
     "text": [
      "8\n"
     ]
    }
   ],
   "source": [
    "def add(x, y):\n",
    "  return x + y\n",
    "\n",
    "result = add(3, 5)\n",
    "print(result) "
   ]
  },
  {
   "cell_type": "code",
   "execution_count": 8,
   "id": "ef318cea-c38e-4a03-8efa-33046f394f9f",
   "metadata": {},
   "outputs": [],
   "source": [
    "# 2. Describe the rules for defining identifiers in Python and provide an example."
   ]
  },
  {
   "cell_type": "code",
   "execution_count": 11,
   "id": "d7bbfac9-6f87-46b4-9ad1-26ab845ca152",
   "metadata": {},
   "outputs": [],
   "source": [
    "# (i)   Letters and Underscores:\n",
    "# -->   cannot start with a number.\n",
    "# -->   can start with a '_' underscore.\n",
    "\n",
    "# (ii)  Reserved Keywords:\n",
    "# -->   Avoid reserved keywords in python such as else, if, elif, continue, break, def etc.\n",
    "\n",
    "# (iii) Case Sensitivity:\n",
    "# -->   it means that 'Age' and 'age' is must be different."
   ]
  },
  {
   "cell_type": "code",
   "execution_count": 10,
   "id": "28c2fb6f-a7b9-43f5-a433-281392645711",
   "metadata": {},
   "outputs": [],
   "source": [
    "# 3. What are comments in Python, and why are they useful? Provide an example."
   ]
  },
  {
   "cell_type": "code",
   "execution_count": 15,
   "id": "742e3e53-9b4f-43fd-b147-af19b4709d02",
   "metadata": {},
   "outputs": [],
   "source": [
    "# In the python comments are the line of text that are ignored by the compiler during program run time\n",
    "# Comments are useful because --->\n",
    "# 1st. It increase readability means during the reading of a particular code user will identify the code easily\n",
    "# 2nd. It increase maintainability\n",
    "\n",
    "# Comments are of 2 types:\n",
    "# single line comments (#) and multiple line comments (\"\"\")\n",
    "\n",
    "# example\n",
    "\n",
    "# Hello.... my name is Khateeb."
   ]
  },
  {
   "cell_type": "code",
   "execution_count": 16,
   "id": "dd8d296b-2d03-4c36-8431-66fd83034b6f",
   "metadata": {},
   "outputs": [],
   "source": [
    "# 4. Why is proper indentation important in Python."
   ]
  },
  {
   "cell_type": "code",
   "execution_count": 18,
   "id": "9b8b0bb5-e173-4af3-b7ed-5adc505b93cc",
   "metadata": {},
   "outputs": [],
   "source": [
    "# proper indentation is plays important role in python because it is a interpratted language.\n",
    "# (i). For syntax requirement\n",
    "# (ii). Defines Code Blocks\n",
    "# (iii). Reduces Errors\n",
    "# (iv). improve readability"
   ]
  },
  {
   "cell_type": "code",
   "execution_count": 19,
   "id": "4d69f6a5-dcfd-44bd-8d01-be52de0c8b98",
   "metadata": {},
   "outputs": [],
   "source": [
    "# 5. What happens if indentation is incorrect in Python."
   ]
  },
  {
   "cell_type": "code",
   "execution_count": 20,
   "id": "559d11b5-9938-46a7-9f02-3dc7ea4626ce",
   "metadata": {},
   "outputs": [],
   "source": [
    "# simple you will face errors if indentation is incorrect."
   ]
  },
  {
   "cell_type": "code",
   "execution_count": 21,
   "id": "12d91230-f121-4927-b3db-37af71352c03",
   "metadata": {},
   "outputs": [],
   "source": [
    "# 6 Differentiate between expression and statement in Python with examples."
   ]
  },
  {
   "cell_type": "code",
   "execution_count": 22,
   "id": "d2119ba5-c005-4957-8ee8-53146de11fab",
   "metadata": {},
   "outputs": [],
   "source": [
    "# Expressions:\n",
    "# An expression is a combination of values, variables, operators\n",
    "\n",
    "# Example:\n",
    "\n",
    "r = 5 + 3"
   ]
  },
  {
   "cell_type": "code",
   "execution_count": null,
   "id": "5d982b5b-9a4d-4381-9cf1-7de85acae498",
   "metadata": {},
   "outputs": [],
   "source": [
    "# Statemen"
   ]
  }
 ],
 "metadata": {
  "kernelspec": {
   "display_name": "Python 3 (ipykernel)",
   "language": "python",
   "name": "python3"
  },
  "language_info": {
   "codemirror_mode": {
    "name": "ipython",
    "version": 3
   },
   "file_extension": ".py",
   "mimetype": "text/x-python",
   "name": "python",
   "nbconvert_exporter": "python",
   "pygments_lexer": "ipython3",
   "version": "3.10.8"
  }
 },
 "nbformat": 4,
 "nbformat_minor": 5
}
